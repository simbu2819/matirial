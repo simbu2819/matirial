{
 "cells": [
  {
   "cell_type": "markdown",
   "metadata": {
    "_uuid": "c058fb399f74d45c32c42b17f9e10b999c368b3a"
   },
   "source": [
    " # Tensorflow  DNNClassifier\n",
    "\n",
    "\n",
    "We'll use the [Bank Authentication Data Set](https://www.kaggle.com/aariyan101/bank-notes/kernels) from the UCI repository.\n",
    "\n",
    "The data consists of 5 columns:\n",
    "\n",
    "* variance of Wavelet Transformed image (continuous)\n",
    "* skewness of Wavelet Transformed image (continuous)\n",
    "* curtosis of Wavelet Transformed image (continuous)\n",
    "* entropy of image (continuous)\n",
    "* class (integer)\n",
    "\n",
    "Where class indicates whether or not a Bank Note was authentic.\n",
    "\n",
    "This sort of task is perfectly suited for Neural Networks and Deep Learning! Just follow the instructions below to get started!"
   ]
  },
  {
   "cell_type": "markdown",
   "metadata": {
    "_uuid": "f444be9aa8b1a8488c9cccab6b927d9ad9595806"
   },
   "source": [
    "## Get the Data\n",
    "\n",
    "** Use pandas to read in the bank_note_data.csv file **"
   ]
  },
  {
   "cell_type": "code",
   "execution_count": 53,
   "metadata": {
    "_uuid": "55138aad76f8d3a13204ff196fbff8e66bddfd69"
   },
   "outputs": [],
   "source": [
    "import pandas as pd\n"
   ]
  },
  {
   "cell_type": "code",
   "execution_count": 54,
   "metadata": {
    "_uuid": "70f3f5c12e8fec23e5f371a1af3effbd65e072c9"
   },
   "outputs": [],
   "source": [
    "df=pd.read_csv(\"Loan1.csv\")"
   ]
  },
  {
   "cell_type": "markdown",
   "metadata": {
    "_uuid": "c415d74a7c4bb1a151885ee137163f96768de0db"
   },
   "source": [
    "** Check the head of the Data **"
   ]
  },
  {
   "cell_type": "code",
   "execution_count": 55,
   "metadata": {
    "_uuid": "fa8fddcf3183566054440a93e5879fa3a7a21424"
   },
   "outputs": [
    {
     "data": {
      "text/html": [
       "<div>\n",
       "<style scoped>\n",
       "    .dataframe tbody tr th:only-of-type {\n",
       "        vertical-align: middle;\n",
       "    }\n",
       "\n",
       "    .dataframe tbody tr th {\n",
       "        vertical-align: top;\n",
       "    }\n",
       "\n",
       "    .dataframe thead th {\n",
       "        text-align: right;\n",
       "    }\n",
       "</style>\n",
       "<table border=\"1\" class=\"dataframe\">\n",
       "  <thead>\n",
       "    <tr style=\"text-align: right;\">\n",
       "      <th></th>\n",
       "      <th>Loan_ID</th>\n",
       "      <th>loan_status</th>\n",
       "      <th>Principal</th>\n",
       "      <th>terms</th>\n",
       "      <th>effective_date</th>\n",
       "      <th>due_date</th>\n",
       "      <th>paid_off_time</th>\n",
       "      <th>past_due_days</th>\n",
       "      <th>age</th>\n",
       "      <th>education</th>\n",
       "      <th>Gender</th>\n",
       "    </tr>\n",
       "  </thead>\n",
       "  <tbody>\n",
       "    <tr>\n",
       "      <th>0</th>\n",
       "      <td>xqd20166231</td>\n",
       "      <td>PAIDOFF</td>\n",
       "      <td>1000</td>\n",
       "      <td>30</td>\n",
       "      <td>9/8/2016</td>\n",
       "      <td>10/7/2016</td>\n",
       "      <td>9/14/2016 19:31</td>\n",
       "      <td>NaN</td>\n",
       "      <td>45</td>\n",
       "      <td>High School or Below</td>\n",
       "      <td>male</td>\n",
       "    </tr>\n",
       "    <tr>\n",
       "      <th>1</th>\n",
       "      <td>xqd20168902</td>\n",
       "      <td>PAIDOFF</td>\n",
       "      <td>1000</td>\n",
       "      <td>30</td>\n",
       "      <td>9/8/2016</td>\n",
       "      <td>10/7/2016</td>\n",
       "      <td>10/7/2016 9:00</td>\n",
       "      <td>NaN</td>\n",
       "      <td>50</td>\n",
       "      <td>Bechalor</td>\n",
       "      <td>female</td>\n",
       "    </tr>\n",
       "    <tr>\n",
       "      <th>2</th>\n",
       "      <td>xqd20160003</td>\n",
       "      <td>PAIDOFF</td>\n",
       "      <td>1000</td>\n",
       "      <td>30</td>\n",
       "      <td>9/8/2016</td>\n",
       "      <td>10/7/2016</td>\n",
       "      <td>9/25/2016 16:58</td>\n",
       "      <td>NaN</td>\n",
       "      <td>33</td>\n",
       "      <td>Bechalor</td>\n",
       "      <td>female</td>\n",
       "    </tr>\n",
       "    <tr>\n",
       "      <th>3</th>\n",
       "      <td>xqd20160004</td>\n",
       "      <td>PAIDOFF</td>\n",
       "      <td>1000</td>\n",
       "      <td>15</td>\n",
       "      <td>9/8/2016</td>\n",
       "      <td>9/22/2016</td>\n",
       "      <td>9/22/2016 20:00</td>\n",
       "      <td>NaN</td>\n",
       "      <td>27</td>\n",
       "      <td>college</td>\n",
       "      <td>male</td>\n",
       "    </tr>\n",
       "    <tr>\n",
       "      <th>4</th>\n",
       "      <td>xqd20160005</td>\n",
       "      <td>PAIDOFF</td>\n",
       "      <td>1000</td>\n",
       "      <td>30</td>\n",
       "      <td>9/9/2016</td>\n",
       "      <td>10/8/2016</td>\n",
       "      <td>9/23/2016 21:36</td>\n",
       "      <td>NaN</td>\n",
       "      <td>28</td>\n",
       "      <td>college</td>\n",
       "      <td>female</td>\n",
       "    </tr>\n",
       "  </tbody>\n",
       "</table>\n",
       "</div>"
      ],
      "text/plain": [
       "       Loan_ID loan_status  Principal  terms effective_date   due_date  \\\n",
       "0  xqd20166231     PAIDOFF       1000     30       9/8/2016  10/7/2016   \n",
       "1  xqd20168902     PAIDOFF       1000     30       9/8/2016  10/7/2016   \n",
       "2  xqd20160003     PAIDOFF       1000     30       9/8/2016  10/7/2016   \n",
       "3  xqd20160004     PAIDOFF       1000     15       9/8/2016  9/22/2016   \n",
       "4  xqd20160005     PAIDOFF       1000     30       9/9/2016  10/8/2016   \n",
       "\n",
       "     paid_off_time  past_due_days  age             education  Gender  \n",
       "0  9/14/2016 19:31            NaN   45  High School or Below    male  \n",
       "1   10/7/2016 9:00            NaN   50              Bechalor  female  \n",
       "2  9/25/2016 16:58            NaN   33              Bechalor  female  \n",
       "3  9/22/2016 20:00            NaN   27               college    male  \n",
       "4  9/23/2016 21:36            NaN   28               college  female  "
      ]
     },
     "execution_count": 55,
     "metadata": {},
     "output_type": "execute_result"
    }
   ],
   "source": [
    "df.head()"
   ]
  },
  {
   "cell_type": "markdown",
   "metadata": {
    "_uuid": "3040680dbf01db0503d1c692aa2a25f9516ff1ab"
   },
   "source": [
    "## EDA\n",
    "\n",
    "We'll just do a few quick plots of the data.\n",
    "\n",
    "** Import seaborn and set matplolib inline for viewing **"
   ]
  },
  {
   "cell_type": "code",
   "execution_count": 56,
   "metadata": {
    "_uuid": "dc228969a01a2918eb730619b431cddb78b171c9"
   },
   "outputs": [],
   "source": [
    "import seaborn as sns\n",
    "import matplotlib as plt\n",
    "%matplotlib inline"
   ]
  },
  {
   "cell_type": "markdown",
   "metadata": {
    "_uuid": "ff475453a2cfaf58cb69ae583b3702423fe991d2"
   },
   "source": [
    "** Create a Countplot of the Classes (Authentic 1 vs Fake 0) **"
   ]
  },
  {
   "cell_type": "code",
   "execution_count": 57,
   "metadata": {
    "_uuid": "e671cfcef9a17fdb23f957802f47a16a333d170b"
   },
   "outputs": [
    {
     "data": {
      "text/plain": [
       "<matplotlib.axes._subplots.AxesSubplot at 0x28579fd4820>"
      ]
     },
     "execution_count": 57,
     "metadata": {},
     "output_type": "execute_result"
    },
    {
     "data": {
      "image/png": "[encoded data removed]",
      "text/plain": [
       "<Figure size 432x288 with 1 Axes>"
      ]
     },
     "metadata": {
      "needs_background": "light"
     },
     "output_type": "display_data"
    }
   ],
   "source": [
    "sns.countplot(data=df,x=\"loan_status\")"
   ]
  },
  {
   "cell_type": "markdown",
   "metadata": {
    "_uuid": "2e2f3ed4847ed440673e7745b1b511442d7a80ea"
   },
   "source": [
    "** Create a PairPlot of the Data with Seaborn, set Hue to Class **"
   ]
  },
  {
   "cell_type": "code",
   "execution_count": 58,
   "metadata": {
    "_uuid": "9c59e465f225586e63cc39f48d9a21334589327b"
   },
   "outputs": [
    {
     "name": "stderr",
     "output_type": "stream",
     "text": [
      "C:\\Users\\SPIRO71-PYTHON\\Anaconda3\\lib\\site-packages\\seaborn\\distributions.py:369: UserWarning: Default bandwidth for data is 0; skipping density estimation.\n",
      "  warnings.warn(msg, UserWarning)\n",
      "C:\\Users\\SPIRO71-PYTHON\\Anaconda3\\lib\\site-packages\\seaborn\\distributions.py:369: UserWarning: Default bandwidth for data is 0; skipping density estimation.\n",
      "  warnings.warn(msg, UserWarning)\n"
     ]
    },
    {
     "data": {
      "text/plain": [
       "<seaborn.axisgrid.PairGrid at 0x28501dfe1c0>"
      ]
     },
     "execution_count": 58,
     "metadata": {},
     "output_type": "execute_result"
    },
    {
     "data": {
      "image/png": "[encoded data removed]",
      "text/plain": [
       "<Figure size 866x720 with 20 Axes>"
      ]
     },
     "metadata": {
      "needs_background": "light"
     },
     "output_type": "display_data"
    }
   ],
   "source": [
    "sns.pairplot(data=df,hue=\"loan_status\")"
   ]
  },
  {
   "cell_type": "code",
   "execution_count": 59,
   "metadata": {},
   "outputs": [
    {
     "data": {
      "text/html": [
       "<div>\n",
       "<style scoped>\n",
       "    .dataframe tbody tr th:only-of-type {\n",
       "        vertical-align: middle;\n",
       "    }\n",
       "\n",
       "    .dataframe tbody tr th {\n",
       "        vertical-align: top;\n",
       "    }\n",
       "\n",
       "    .dataframe thead th {\n",
       "        text-align: right;\n",
       "    }\n",
       "</style>\n",
       "<table border=\"1\" class=\"dataframe\">\n",
       "  <thead>\n",
       "    <tr style=\"text-align: right;\">\n",
       "      <th></th>\n",
       "      <th>Loan_ID</th>\n",
       "      <th>loan_status</th>\n",
       "      <th>Principal</th>\n",
       "      <th>terms</th>\n",
       "      <th>effective_date</th>\n",
       "      <th>due_date</th>\n",
       "      <th>paid_off_time</th>\n",
       "      <th>past_due_days</th>\n",
       "      <th>age</th>\n",
       "      <th>education</th>\n",
       "      <th>Gender</th>\n",
       "    </tr>\n",
       "  </thead>\n",
       "  <tbody>\n",
       "    <tr>\n",
       "      <th>0</th>\n",
       "      <td>xqd20166231</td>\n",
       "      <td>PAIDOFF</td>\n",
       "      <td>1000</td>\n",
       "      <td>30</td>\n",
       "      <td>9/8/2016</td>\n",
       "      <td>10/7/2016</td>\n",
       "      <td>9/14/2016 19:31</td>\n",
       "      <td>NaN</td>\n",
       "      <td>45</td>\n",
       "      <td>High School or Below</td>\n",
       "      <td>male</td>\n",
       "    </tr>\n",
       "    <tr>\n",
       "      <th>1</th>\n",
       "      <td>xqd20168902</td>\n",
       "      <td>PAIDOFF</td>\n",
       "      <td>1000</td>\n",
       "      <td>30</td>\n",
       "      <td>9/8/2016</td>\n",
       "      <td>10/7/2016</td>\n",
       "      <td>10/7/2016 9:00</td>\n",
       "      <td>NaN</td>\n",
       "      <td>50</td>\n",
       "      <td>Bechalor</td>\n",
       "      <td>female</td>\n",
       "    </tr>\n",
       "    <tr>\n",
       "      <th>2</th>\n",
       "      <td>xqd20160003</td>\n",
       "      <td>PAIDOFF</td>\n",
       "      <td>1000</td>\n",
       "      <td>30</td>\n",
       "      <td>9/8/2016</td>\n",
       "      <td>10/7/2016</td>\n",
       "      <td>9/25/2016 16:58</td>\n",
       "      <td>NaN</td>\n",
       "      <td>33</td>\n",
       "      <td>Bechalor</td>\n",
       "      <td>female</td>\n",
       "    </tr>\n",
       "    <tr>\n",
       "      <th>3</th>\n",
       "      <td>xqd20160004</td>\n",
       "      <td>PAIDOFF</td>\n",
       "      <td>1000</td>\n",
       "      <td>15</td>\n",
       "      <td>9/8/2016</td>\n",
       "      <td>9/22/2016</td>\n",
       "      <td>9/22/2016 20:00</td>\n",
       "      <td>NaN</td>\n",
       "      <td>27</td>\n",
       "      <td>college</td>\n",
       "      <td>male</td>\n",
       "    </tr>\n",
       "    <tr>\n",
       "      <th>4</th>\n",
       "      <td>xqd20160005</td>\n",
       "      <td>PAIDOFF</td>\n",
       "      <td>1000</td>\n",
       "      <td>30</td>\n",
       "      <td>9/9/2016</td>\n",
       "      <td>10/8/2016</td>\n",
       "      <td>9/23/2016 21:36</td>\n",
       "      <td>NaN</td>\n",
       "      <td>28</td>\n",
       "      <td>college</td>\n",
       "      <td>female</td>\n",
       "    </tr>\n",
       "    <tr>\n",
       "      <th>...</th>\n",
       "      <td>...</td>\n",
       "      <td>...</td>\n",
       "      <td>...</td>\n",
       "      <td>...</td>\n",
       "      <td>...</td>\n",
       "      <td>...</td>\n",
       "      <td>...</td>\n",
       "      <td>...</td>\n",
       "      <td>...</td>\n",
       "      <td>...</td>\n",
       "      <td>...</td>\n",
       "    </tr>\n",
       "    <tr>\n",
       "      <th>495</th>\n",
       "      <td>xqd20160496</td>\n",
       "      <td>COLLECTION_PAIDOFF</td>\n",
       "      <td>1000</td>\n",
       "      <td>30</td>\n",
       "      <td>9/12/2016</td>\n",
       "      <td>10/11/2016</td>\n",
       "      <td>10/14/2016 19:08</td>\n",
       "      <td>3.0</td>\n",
       "      <td>28</td>\n",
       "      <td>High School or Below</td>\n",
       "      <td>male</td>\n",
       "    </tr>\n",
       "    <tr>\n",
       "      <th>496</th>\n",
       "      <td>xqd20160497</td>\n",
       "      <td>COLLECTION_PAIDOFF</td>\n",
       "      <td>1000</td>\n",
       "      <td>15</td>\n",
       "      <td>9/12/2016</td>\n",
       "      <td>9/26/2016</td>\n",
       "      <td>10/10/2016 20:02</td>\n",
       "      <td>14.0</td>\n",
       "      <td>26</td>\n",
       "      <td>High School or Below</td>\n",
       "      <td>male</td>\n",
       "    </tr>\n",
       "    <tr>\n",
       "      <th>497</th>\n",
       "      <td>xqd20160498</td>\n",
       "      <td>COLLECTION_PAIDOFF</td>\n",
       "      <td>800</td>\n",
       "      <td>15</td>\n",
       "      <td>9/12/2016</td>\n",
       "      <td>9/26/2016</td>\n",
       "      <td>9/29/2016 11:49</td>\n",
       "      <td>3.0</td>\n",
       "      <td>30</td>\n",
       "      <td>college</td>\n",
       "      <td>male</td>\n",
       "    </tr>\n",
       "    <tr>\n",
       "      <th>498</th>\n",
       "      <td>xqd20160499</td>\n",
       "      <td>COLLECTION_PAIDOFF</td>\n",
       "      <td>1000</td>\n",
       "      <td>30</td>\n",
       "      <td>9/12/2016</td>\n",
       "      <td>11/10/2016</td>\n",
       "      <td>11/11/2016 22:40</td>\n",
       "      <td>1.0</td>\n",
       "      <td>38</td>\n",
       "      <td>college</td>\n",
       "      <td>female</td>\n",
       "    </tr>\n",
       "    <tr>\n",
       "      <th>499</th>\n",
       "      <td>xqd20160500</td>\n",
       "      <td>COLLECTION_PAIDOFF</td>\n",
       "      <td>1000</td>\n",
       "      <td>30</td>\n",
       "      <td>9/12/2016</td>\n",
       "      <td>10/11/2016</td>\n",
       "      <td>10/19/2016 11:58</td>\n",
       "      <td>8.0</td>\n",
       "      <td>28</td>\n",
       "      <td>High School or Below</td>\n",
       "      <td>male</td>\n",
       "    </tr>\n",
       "  </tbody>\n",
       "</table>\n",
       "<p>500 rows × 11 columns</p>\n",
       "</div>"
      ],
      "text/plain": [
       "         Loan_ID         loan_status  Principal  terms effective_date  \\\n",
       "0    xqd20166231             PAIDOFF       1000     30       9/8/2016   \n",
       "1    xqd20168902             PAIDOFF       1000     30       9/8/2016   \n",
       "2    xqd20160003             PAIDOFF       1000     30       9/8/2016   \n",
       "3    xqd20160004             PAIDOFF       1000     15       9/8/2016   \n",
       "4    xqd20160005             PAIDOFF       1000     30       9/9/2016   \n",
       "..           ...                 ...        ...    ...            ...   \n",
       "495  xqd20160496  COLLECTION_PAIDOFF       1000     30      9/12/2016   \n",
       "496  xqd20160497  COLLECTION_PAIDOFF       1000     15      9/12/2016   \n",
       "497  xqd20160498  COLLECTION_PAIDOFF        800     15      9/12/2016   \n",
       "498  xqd20160499  COLLECTION_PAIDOFF       1000     30      9/12/2016   \n",
       "499  xqd20160500  COLLECTION_PAIDOFF       1000     30      9/12/2016   \n",
       "\n",
       "       due_date     paid_off_time  past_due_days  age             education  \\\n",
       "0     10/7/2016   9/14/2016 19:31            NaN   45  High School or Below   \n",
       "1     10/7/2016    10/7/2016 9:00            NaN   50              Bechalor   \n",
       "2     10/7/2016   9/25/2016 16:58            NaN   33              Bechalor   \n",
       "3     9/22/2016   9/22/2016 20:00            NaN   27               college   \n",
       "4     10/8/2016   9/23/2016 21:36            NaN   28               college   \n",
       "..          ...               ...            ...  ...                   ...   \n",
       "495  10/11/2016  10/14/2016 19:08            3.0   28  High School or Below   \n",
       "496   9/26/2016  10/10/2016 20:02           14.0   26  High School or Below   \n",
       "497   9/26/2016   9/29/2016 11:49            3.0   30               college   \n",
       "498  11/10/2016  11/11/2016 22:40            1.0   38               college   \n",
       "499  10/11/2016  10/19/2016 11:58            8.0   28  High School or Below   \n",
       "\n",
       "     Gender  \n",
       "0      male  \n",
       "1    female  \n",
       "2    female  \n",
       "3      male  \n",
       "4    female  \n",
       "..      ...  \n",
       "495    male  \n",
       "496    male  \n",
       "497    male  \n",
       "498  female  \n",
       "499    male  \n",
       "\n",
       "[500 rows x 11 columns]"
      ]
     },
     "execution_count": 59,
     "metadata": {},
     "output_type": "execute_result"
    }
   ],
   "source": [
    "df"
   ]
  },
  {
   "cell_type": "code",
   "execution_count": 60,
   "metadata": {},
   "outputs": [
    {
     "data": {
      "text/plain": [
       "Loan_ID             0\n",
       "loan_status         0\n",
       "Principal           0\n",
       "terms               0\n",
       "effective_date      0\n",
       "due_date            0\n",
       "paid_off_time     100\n",
       "past_due_days     300\n",
       "age                 0\n",
       "education           0\n",
       "Gender              0\n",
       "dtype: int64"
      ]
     },
     "execution_count": 60,
     "metadata": {},
     "output_type": "execute_result"
    }
   ],
   "source": [
    "df.isnull().sum()"
   ]
  },
  {
   "cell_type": "code",
   "execution_count": 61,
   "metadata": {},
   "outputs": [
    {
     "data": {
      "text/plain": [
       "Index(['Loan_ID', 'loan_status', 'Principal', 'terms', 'effective_date',\n",
       "       'due_date', 'paid_off_time', 'past_due_days', 'age', 'education',\n",
       "       'Gender'],\n",
       "      dtype='object')"
      ]
     },
     "execution_count": 61,
     "metadata": {},
     "output_type": "execute_result"
    }
   ],
   "source": [
    "df.columns"
   ]
  },
  {
   "cell_type": "code",
   "execution_count": 14,
   "metadata": {},
   "outputs": [],
   "source": []
  },
  {
   "cell_type": "code",
   "execution_count": 62,
   "metadata": {},
   "outputs": [
    {
     "data": {
      "text/plain": [
       "array(['PAIDOFF', 'COLLECTION', 'COLLECTION_PAIDOFF'], dtype=object)"
      ]
     },
     "execution_count": 62,
     "metadata": {},
     "output_type": "execute_result"
    }
   ],
   "source": [
    "df.loan_status.unique()"
   ]
  },
  {
   "cell_type": "code",
   "execution_count": 63,
   "metadata": {},
   "outputs": [],
   "source": [
    "from sklearn.preprocessing import LabelEncoder\n",
    "var_mod = ['Loan_ID', 'loan_status', 'Principal', 'terms', 'effective_date',\n",
    "       'due_date', 'age', 'education',\n",
    "       'Gender']\n",
    "le = LabelEncoder()\n",
    "for i in var_mod:\n",
    "    df[i] = le.fit_transform(df[i]).astype(str)\n"
   ]
  },
  {
   "cell_type": "code",
   "execution_count": 64,
   "metadata": {},
   "outputs": [
    {
     "data": {
      "text/html": [
       "<div>\n",
       "<style scoped>\n",
       "    .dataframe tbody tr th:only-of-type {\n",
       "        vertical-align: middle;\n",
       "    }\n",
       "\n",
       "    .dataframe tbody tr th {\n",
       "        vertical-align: top;\n",
       "    }\n",
       "\n",
       "    .dataframe thead th {\n",
       "        text-align: right;\n",
       "    }\n",
       "</style>\n",
       "<table border=\"1\" class=\"dataframe\">\n",
       "  <thead>\n",
       "    <tr style=\"text-align: right;\">\n",
       "      <th></th>\n",
       "      <th>Loan_ID</th>\n",
       "      <th>loan_status</th>\n",
       "      <th>Principal</th>\n",
       "      <th>terms</th>\n",
       "      <th>effective_date</th>\n",
       "      <th>due_date</th>\n",
       "      <th>paid_off_time</th>\n",
       "      <th>past_due_days</th>\n",
       "      <th>age</th>\n",
       "      <th>education</th>\n",
       "      <th>Gender</th>\n",
       "    </tr>\n",
       "  </thead>\n",
       "  <tbody>\n",
       "    <tr>\n",
       "      <th>0</th>\n",
       "      <td>471</td>\n",
       "      <td>2</td>\n",
       "      <td>5</td>\n",
       "      <td>2</td>\n",
       "      <td>5</td>\n",
       "      <td>6</td>\n",
       "      <td>9/14/2016 19:31</td>\n",
       "      <td>NaN</td>\n",
       "      <td>27</td>\n",
       "      <td>1</td>\n",
       "      <td>1</td>\n",
       "    </tr>\n",
       "    <tr>\n",
       "      <th>1</th>\n",
       "      <td>473</td>\n",
       "      <td>2</td>\n",
       "      <td>5</td>\n",
       "      <td>2</td>\n",
       "      <td>5</td>\n",
       "      <td>6</td>\n",
       "      <td>10/7/2016 9:00</td>\n",
       "      <td>NaN</td>\n",
       "      <td>31</td>\n",
       "      <td>0</td>\n",
       "      <td>0</td>\n",
       "    </tr>\n",
       "    <tr>\n",
       "      <th>2</th>\n",
       "      <td>4</td>\n",
       "      <td>2</td>\n",
       "      <td>5</td>\n",
       "      <td>2</td>\n",
       "      <td>5</td>\n",
       "      <td>6</td>\n",
       "      <td>9/25/2016 16:58</td>\n",
       "      <td>NaN</td>\n",
       "      <td>15</td>\n",
       "      <td>0</td>\n",
       "      <td>0</td>\n",
       "    </tr>\n",
       "    <tr>\n",
       "      <th>3</th>\n",
       "      <td>5</td>\n",
       "      <td>2</td>\n",
       "      <td>5</td>\n",
       "      <td>1</td>\n",
       "      <td>5</td>\n",
       "      <td>18</td>\n",
       "      <td>9/22/2016 20:00</td>\n",
       "      <td>NaN</td>\n",
       "      <td>9</td>\n",
       "      <td>3</td>\n",
       "      <td>1</td>\n",
       "    </tr>\n",
       "    <tr>\n",
       "      <th>4</th>\n",
       "      <td>6</td>\n",
       "      <td>2</td>\n",
       "      <td>5</td>\n",
       "      <td>2</td>\n",
       "      <td>6</td>\n",
       "      <td>7</td>\n",
       "      <td>9/23/2016 21:36</td>\n",
       "      <td>NaN</td>\n",
       "      <td>10</td>\n",
       "      <td>3</td>\n",
       "      <td>0</td>\n",
       "    </tr>\n",
       "    <tr>\n",
       "      <th>...</th>\n",
       "      <td>...</td>\n",
       "      <td>...</td>\n",
       "      <td>...</td>\n",
       "      <td>...</td>\n",
       "      <td>...</td>\n",
       "      <td>...</td>\n",
       "      <td>...</td>\n",
       "      <td>...</td>\n",
       "      <td>...</td>\n",
       "      <td>...</td>\n",
       "      <td>...</td>\n",
       "    </tr>\n",
       "    <tr>\n",
       "      <th>495</th>\n",
       "      <td>464</td>\n",
       "      <td>1</td>\n",
       "      <td>5</td>\n",
       "      <td>2</td>\n",
       "      <td>2</td>\n",
       "      <td>1</td>\n",
       "      <td>10/14/2016 19:08</td>\n",
       "      <td>3.0</td>\n",
       "      <td>10</td>\n",
       "      <td>1</td>\n",
       "      <td>1</td>\n",
       "    </tr>\n",
       "    <tr>\n",
       "      <th>496</th>\n",
       "      <td>465</td>\n",
       "      <td>1</td>\n",
       "      <td>5</td>\n",
       "      <td>1</td>\n",
       "      <td>2</td>\n",
       "      <td>22</td>\n",
       "      <td>10/10/2016 20:02</td>\n",
       "      <td>14.0</td>\n",
       "      <td>8</td>\n",
       "      <td>1</td>\n",
       "      <td>1</td>\n",
       "    </tr>\n",
       "    <tr>\n",
       "      <th>497</th>\n",
       "      <td>466</td>\n",
       "      <td>1</td>\n",
       "      <td>3</td>\n",
       "      <td>1</td>\n",
       "      <td>2</td>\n",
       "      <td>22</td>\n",
       "      <td>9/29/2016 11:49</td>\n",
       "      <td>3.0</td>\n",
       "      <td>12</td>\n",
       "      <td>3</td>\n",
       "      <td>1</td>\n",
       "    </tr>\n",
       "    <tr>\n",
       "      <th>498</th>\n",
       "      <td>467</td>\n",
       "      <td>1</td>\n",
       "      <td>5</td>\n",
       "      <td>2</td>\n",
       "      <td>2</td>\n",
       "      <td>9</td>\n",
       "      <td>11/11/2016 22:40</td>\n",
       "      <td>1.0</td>\n",
       "      <td>20</td>\n",
       "      <td>3</td>\n",
       "      <td>0</td>\n",
       "    </tr>\n",
       "    <tr>\n",
       "      <th>499</th>\n",
       "      <td>468</td>\n",
       "      <td>1</td>\n",
       "      <td>5</td>\n",
       "      <td>2</td>\n",
       "      <td>2</td>\n",
       "      <td>1</td>\n",
       "      <td>10/19/2016 11:58</td>\n",
       "      <td>8.0</td>\n",
       "      <td>10</td>\n",
       "      <td>1</td>\n",
       "      <td>1</td>\n",
       "    </tr>\n",
       "  </tbody>\n",
       "</table>\n",
       "<p>500 rows × 11 columns</p>\n",
       "</div>"
      ],
      "text/plain": [
       "    Loan_ID loan_status Principal terms effective_date due_date  \\\n",
       "0       471           2         5     2              5        6   \n",
       "1       473           2         5     2              5        6   \n",
       "2         4           2         5     2              5        6   \n",
       "3         5           2         5     1              5       18   \n",
       "4         6           2         5     2              6        7   \n",
       "..      ...         ...       ...   ...            ...      ...   \n",
       "495     464           1         5     2              2        1   \n",
       "496     465           1         5     1              2       22   \n",
       "497     466           1         3     1              2       22   \n",
       "498     467           1         5     2              2        9   \n",
       "499     468           1         5     2              2        1   \n",
       "\n",
       "        paid_off_time  past_due_days age education Gender  \n",
       "0     9/14/2016 19:31            NaN  27         1      1  \n",
       "1      10/7/2016 9:00            NaN  31         0      0  \n",
       "2     9/25/2016 16:58            NaN  15         0      0  \n",
       "3     9/22/2016 20:00            NaN   9         3      1  \n",
       "4     9/23/2016 21:36            NaN  10         3      0  \n",
       "..                ...            ...  ..       ...    ...  \n",
       "495  10/14/2016 19:08            3.0  10         1      1  \n",
       "496  10/10/2016 20:02           14.0   8         1      1  \n",
       "497   9/29/2016 11:49            3.0  12         3      1  \n",
       "498  11/11/2016 22:40            1.0  20         3      0  \n",
       "499  10/19/2016 11:58            8.0  10         1      1  \n",
       "\n",
       "[500 rows x 11 columns]"
      ]
     },
     "execution_count": 64,
     "metadata": {},
     "output_type": "execute_result"
    }
   ],
   "source": [
    "df"
   ]
  },
  {
   "cell_type": "code",
   "execution_count": 65,
   "metadata": {},
   "outputs": [
    {
     "data": {
      "text/plain": [
       "array(['2', '0', '1'], dtype=object)"
      ]
     },
     "execution_count": 65,
     "metadata": {},
     "output_type": "execute_result"
    }
   ],
   "source": [
    "df.loan_status.unique()"
   ]
  },
  {
   "cell_type": "code",
   "execution_count": 66,
   "metadata": {},
   "outputs": [],
   "source": [
    "X=df[['Loan_ID','Principal', 'terms', 'effective_date',\n",
    "       'due_date', 'age', 'education',\n",
    "       'Gender']]"
   ]
  },
  {
   "cell_type": "code",
   "execution_count": 67,
   "metadata": {},
   "outputs": [],
   "source": [
    "y=df['loan_status']"
   ]
  },
  {
   "cell_type": "code",
   "execution_count": null,
   "metadata": {},
   "outputs": [],
   "source": []
  },
  {
   "cell_type": "markdown",
   "metadata": {
    "_uuid": "521fd60a2fed323d03cb5036baa69c9e861c98ce"
   },
   "source": [
    "## Data Preparation \n",
    "\n",
    "When using Neural Network and Deep Learning based systems, it is usually a good idea to Standardize your data, this step isn't actually necessary for our particular data set, but let's run through it for practice!\n",
    "\n",
    "### Standard Scaling\n",
    "\n",
    "** Import StandardScaler() from SciKit Learn**"
   ]
  },
  {
   "cell_type": "code",
   "execution_count": 32,
   "metadata": {
    "_uuid": "df19011552e31689e522c5cafa25b9f27e2c5453"
   },
   "outputs": [],
   "source": [
    "from sklearn.preprocessing import StandardScaler"
   ]
  },
  {
   "cell_type": "markdown",
   "metadata": {
    "_uuid": "1dea4d21b17953ddb941e52c89d612f975ca69d5"
   },
   "source": [
    "**Create a StandardScaler() object called scaler.**"
   ]
  },
  {
   "cell_type": "code",
   "execution_count": 33,
   "metadata": {
    "_uuid": "e67821d10bc4b4cc4dab07cb7d5615424d991ecc"
   },
   "outputs": [],
   "source": [
    "scaler = StandardScaler()"
   ]
  },
  {
   "cell_type": "markdown",
   "metadata": {
    "_uuid": "35aa97819fada5831feba2d11facc587bd976cf1"
   },
   "source": [
    "**Fit scaler to the features.**"
   ]
  },
  {
   "cell_type": "code",
   "execution_count": 34,
   "metadata": {
    "_uuid": "d6fcd9186439eac82ad24d952ee94f8a36d1b818"
   },
   "outputs": [
    {
     "data": {
      "text/plain": [
       "StandardScaler()"
      ]
     },
     "execution_count": 34,
     "metadata": {},
     "output_type": "execute_result"
    }
   ],
   "source": [
    "scaler.fit(df1.drop(\"loan_status\",axis=1))"
   ]
  },
  {
   "cell_type": "markdown",
   "metadata": {
    "_uuid": "0d2d4c758099572f306ab754e7ae73f118ad176f"
   },
   "source": [
    "**Use the .transform() method to transform the features to a scaled version.**"
   ]
  },
  {
   "cell_type": "code",
   "execution_count": 35,
   "metadata": {
    "_uuid": "0ae1cf884ff1865c025412dcd9d8fe6084bae210"
   },
   "outputs": [],
   "source": [
    "scaled_fea = scaler.fit_transform(df1.drop(\"loan_status\",axis=1))"
   ]
  },
  {
   "cell_type": "code",
   "execution_count": 37,
   "metadata": {},
   "outputs": [
    {
     "data": {
      "text/plain": [
       "array([[-1.68017329,  0.48705679,  0.80115419,  2.14285714,  1.48504998,\n",
       "        -1.71481604, -0.66979669, -0.88373642,  0.92814166,  0.40347329],\n",
       "       [-1.64553055,  0.48705679, -1.15288042,  2.14285714,  0.23289991,\n",
       "         0.98731833, -0.36465014, -0.53852688,  0.92814166,  0.40347329],\n",
       "       [ 1.4723168 ,  0.48705679,  0.80115419,  2.14285714, -0.51839013,\n",
       "         0.29446336,  0.70336281,  1.36012558,  0.92814166,  0.40347329],\n",
       "       [-1.6108878 ,  0.48705679, -1.15288042,  2.14285714,  0.23289991,\n",
       "         1.36838856, -0.21207686, -0.36592211, -1.84243046,  0.40347329],\n",
       "       [ 1.43767406, -1.83226125, -1.15288042,  2.14285714,  0.23289991,\n",
       "         0.88339008, -0.51722341,  0.32449697, -0.4571444 ,  0.40347329],\n",
       "       [-1.57624505,  0.48705679,  0.80115419, -2.14285714,  1.73547999,\n",
       "        -0.36374886,  0.55078954, -0.71113165,  0.92814166,  0.40347329],\n",
       "       [-1.5416023 , -1.83226125, -1.15288042, -2.14285714,  0.48332993,\n",
       "         0.81410459, -0.66979669,  0.49710174,  0.92814166,  0.40347329],\n",
       "       [-1.50695955,  0.48705679,  0.80115419, -2.14285714,  1.73547999,\n",
       "         0.57160535,  1.61880249, -0.88373642, -0.4571444 ,  0.40347329],\n",
       "       [-1.71481604,  0.48705679,  0.80115419, -2.14285714,  1.73547999,\n",
       "         0.36374886,  2.38166888, -0.53852688, -0.4571444 ,  0.40347329],\n",
       "       [-1.4723168 ,  0.48705679, -1.15288042, -2.14285714,  0.48332993,\n",
       "         1.4723168 , -0.21207686,  0.1518922 , -1.84243046,  0.40347329],\n",
       "       [-1.43767406, -1.83226125, -1.15288042, -2.14285714,  1.73547999,\n",
       "        -1.68017329, -0.82236997, -0.71113165,  0.92814166, -2.4784788 ],\n",
       "       [-1.40303131,  0.48705679,  0.80115419, -2.14285714,  1.73547999,\n",
       "         0.5369626 ,  1.61880249, -1.74676027,  0.92814166,  0.40347329],\n",
       "       [-1.36838856, -1.83226125, -1.15288042, -0.71428571,  0.73375994,\n",
       "         1.02196108, -0.66979669,  1.36012558,  0.92814166,  0.40347329],\n",
       "       [ 1.36838856,  0.48705679, -1.15288042, -0.71428571,  0.73375994,\n",
       "         0.84874733, -0.82236997,  1.18752082,  0.92814166,  0.40347329],\n",
       "       [-1.33374581,  0.48705679,  0.80115419, -0.71428571, -1.01925015,\n",
       "        -1.02196108, -0.66979669,  0.84231128, -0.4571444 , -2.4784788 ],\n",
       "       [-1.29910306, -1.83226125, -1.15288042, -0.71428571,  0.73375994,\n",
       "         1.05660382, -0.66979669,  0.32449697,  0.92814166,  0.40347329],\n",
       "       [-1.26446031,  0.48705679,  0.80115419, -0.71428571, -1.01925015,\n",
       "        -1.4723168 , -0.82236997, -1.74676027,  0.92814166, -2.4784788 ],\n",
       "       [-1.22981757, -1.83226125, -1.15288042, -0.71428571,  0.73375994,\n",
       "         1.19517482, -0.51722341, -1.05634119, -0.4571444 ,  0.40347329],\n",
       "       [-1.19517482, -1.83226125, -1.15288042, -0.71428571,  0.73375994,\n",
       "        -0.12124962,  0.55078954, -0.36592211,  0.92814166,  0.40347329],\n",
       "       [-1.16053207,  0.48705679,  0.80115419, -0.71428571, -1.01925015,\n",
       "         0.50231985,  1.46622921,  0.32449697, -0.4571444 ,  0.40347329],\n",
       "       [-1.12588932,  0.48705679, -1.15288042, -0.71428571,  0.73375994,\n",
       "         1.40303131, -0.51722341,  2.22314943, -0.4571444 , -2.4784788 ],\n",
       "       [-1.09124657,  0.48705679,  0.80115419, -0.71428571, -1.01925015,\n",
       "        -1.05660382, -0.66979669,  0.32449697,  0.92814166,  0.40347329],\n",
       "       [-1.05660382, -1.83226125, -1.15288042, -0.71428571,  0.73375994,\n",
       "         1.68017329, -0.36465014, -1.40155073, -0.4571444 ,  0.40347329],\n",
       "       [-1.02196108,  0.48705679, -1.15288042, -0.71428571, -1.01925015,\n",
       "        -1.29910306, -0.66979669, -1.22894596,  0.92814166,  0.40347329],\n",
       "       [ 1.68017329,  0.48705679,  0.80115419, -0.71428571, -0.26796011,\n",
       "        -0.05196412, -0.82236997, -0.71113165, -0.4571444 ,  0.40347329],\n",
       "       [-0.98731833,  0.48705679,  0.80115419, -0.71428571, -1.01925015,\n",
       "         0.39839161,  1.31365593,  0.1518922 , -1.84243046,  0.40347329],\n",
       "       [-0.95267558,  0.48705679,  0.80115419, -0.71428571, -1.01925015,\n",
       "        -1.36838856, -0.82236997,  0.32449697,  0.92814166,  0.40347329],\n",
       "       [-0.91803283,  0.48705679,  0.80115419, -0.71428571, -1.01925015,\n",
       "        -1.6108878 , -0.66979669, -0.71113165,  0.92814166, -2.4784788 ],\n",
       "       [-0.88339008,  0.48705679,  0.80115419, -0.71428571, -1.01925015,\n",
       "        -1.22981757, -0.66979669,  0.66970651, -0.4571444 ,  0.40347329],\n",
       "       [-0.84874733, -4.15157928, -1.15288042, -0.71428571, -1.01925015,\n",
       "        -1.33374581, -0.82236997,  1.01491605, -1.84243046,  0.40347329],\n",
       "       [-0.81410459, -1.83226125, -1.15288042, -0.71428571,  0.73375994,\n",
       "         1.26446031, -0.51722341, -0.53852688, -1.84243046,  0.40347329],\n",
       "       [-0.77946184,  0.48705679, -1.15288042, -0.71428571,  0.73375994,\n",
       "         1.6108878 , -0.36465014,  0.32449697,  0.92814166,  0.40347329],\n",
       "       [-0.74481909, -1.83226125, -3.10691502, -0.71428571, -0.0175301 ,\n",
       "         0.77946184, -0.66979669,  0.49710174, -1.84243046, -2.4784788 ],\n",
       "       [-0.71017634,  0.48705679,  0.80115419, -0.71428571, -1.01925015,\n",
       "        -1.19517482, -0.66979669, -0.36592211,  0.92814166,  0.40347329],\n",
       "       [-0.67553359,  0.48705679,  0.80115419, -0.71428571, -1.01925015,\n",
       "        -1.5416023 , -0.82236997,  0.49710174, -1.84243046,  0.40347329],\n",
       "       [-0.64089084,  0.48705679,  0.80115419, -0.71428571, -1.01925015,\n",
       "        -1.40303131, -0.82236997, -0.36592211, -1.84243046,  0.40347329],\n",
       "       [ 1.6108878 ,  0.48705679,  0.80115419, -0.71428571, -1.01925015,\n",
       "         0.08660687,  2.07652232, -1.22894596, -0.4571444 ,  0.40347329],\n",
       "       [-0.6062481 ,  0.48705679,  0.80115419, -0.71428571, -1.01925015,\n",
       "        -1.43767406, -0.82236997,  0.49710174, -0.4571444 ,  0.40347329],\n",
       "       [-0.57160535,  0.48705679,  0.80115419, -0.71428571, -1.01925015,\n",
       "        -0.57160535,  0.0930697 , -1.05634119,  0.92814166, -2.4784788 ],\n",
       "       [-0.5369626 ,  0.48705679,  0.80115419, -0.71428571, -0.26796011,\n",
       "         0.05196412, -0.21207686, -1.22894596,  0.92814166,  0.40347329],\n",
       "       [-0.50231985,  0.48705679,  0.80115419, -0.71428571, -1.01925015,\n",
       "        -0.32910611,  0.85593609, -0.19331734,  0.92814166,  0.40347329],\n",
       "       [-0.4676771 ,  0.48705679, -1.15288042, -0.71428571,  0.73375994,\n",
       "         0.95267558, -0.66979669, -0.53852688,  0.92814166,  0.40347329],\n",
       "       [-0.43303435,  0.48705679,  0.80115419, -0.71428571, -1.01925015,\n",
       "        -1.50695955, -0.82236997, -1.22894596, -0.4571444 ,  0.40347329],\n",
       "       [-0.39839161,  0.48705679,  0.80115419, -0.71428571, -1.01925015,\n",
       "         0.6062481 ,  1.77137576, -0.88373642,  0.92814166, -2.4784788 ],\n",
       "       [-0.36374886,  0.48705679,  0.80115419, -0.71428571, -1.01925015,\n",
       "        -1.16053207, -0.66979669, -1.22894596, -0.4571444 ,  0.40347329],\n",
       "       [-0.32910611,  0.48705679, -1.15288042, -0.71428571,  0.73375994,\n",
       "         1.09124657, -0.66979669, -0.36592211,  0.92814166,  0.40347329],\n",
       "       [ 1.5416023 ,  0.48705679,  0.80115419, -0.71428571, -1.01925015,\n",
       "         0.43303435,  1.46622921, -0.02071257,  0.92814166,  0.40347329],\n",
       "       [-0.29446336,  0.48705679,  0.80115419, -0.71428571, -1.01925015,\n",
       "         0.25982061,  1.16108265, -0.88373642,  0.92814166,  0.40347329],\n",
       "       [-0.25982061,  0.48705679,  0.80115419, -0.71428571, -1.01925015,\n",
       "        -0.84874733, -0.51722341, -1.05634119, -0.4571444 ,  0.40347329],\n",
       "       [-0.22517786,  0.48705679,  0.80115419, -0.71428571, -1.01925015,\n",
       "        -1.57624505, -0.82236997, -0.36592211,  0.92814166,  0.40347329],\n",
       "       [-0.19053512,  0.48705679,  0.80115419, -0.71428571, -1.01925015,\n",
       "        -0.88339008, -0.51722341,  1.18752082,  0.92814166,  0.40347329],\n",
       "       [-0.15589237, -1.83226125, -1.15288042, -0.71428571,  0.73375994,\n",
       "         1.50695955, -0.36465014,  1.53273035,  0.92814166,  0.40347329],\n",
       "       [ 1.50695955,  0.48705679, -1.15288042, -0.71428571,  0.73375994,\n",
       "         1.12588932, -0.51722341, -0.88373642, -0.4571444 ,  0.40347329],\n",
       "       [-0.12124962,  0.48705679,  0.80115419,  0.71428571, -0.76882014,\n",
       "        -0.77946184, -0.51722341, -0.88373642, -0.4571444 ,  0.40347329],\n",
       "       [-0.08660687,  0.48705679,  0.80115419,  0.71428571, -0.76882014,\n",
       "        -0.50231985, -0.05950358,  0.66970651, -0.4571444 ,  0.40347329],\n",
       "       [-0.05196412,  0.48705679, -1.15288042,  0.71428571,  0.98418995,\n",
       "         1.43767406, -0.66979669,  1.01491605,  0.92814166,  0.40347329],\n",
       "       [-0.01732137,  0.48705679,  0.80115419,  0.71428571, -0.76882014,\n",
       "         0.22517786,  2.2290956 , -1.05634119,  0.92814166,  0.40347329],\n",
       "       [ 0.01732137,  0.48705679,  0.80115419,  0.71428571, -0.76882014,\n",
       "        -0.19053512,  1.00850937, -1.22894596,  0.92814166,  0.40347329],\n",
       "       [ 0.05196412,  0.48705679,  0.80115419,  0.71428571, -0.76882014,\n",
       "        -0.91803283, -0.66979669,  0.49710174,  0.92814166,  0.40347329],\n",
       "       [ 0.08660687, -1.83226125, -1.15288042,  0.71428571,  0.98418995,\n",
       "         1.22981757, -0.66979669,  0.32449697,  0.92814166,  0.40347329],\n",
       "       [ 1.57624505, -1.83226125, -1.15288042,  0.71428571,  0.98418995,\n",
       "         1.33374581, -0.66979669,  1.18752082, -1.84243046,  0.40347329],\n",
       "       [ 0.12124962,  0.48705679,  0.80115419,  0.71428571,  1.98591   ,\n",
       "         0.19053512,  0.0930697 ,  1.18752082, -0.4571444 ,  0.40347329],\n",
       "       [ 0.15589237,  0.48705679,  0.80115419,  0.71428571,  1.98591   ,\n",
       "         0.12124962, -0.21207686, -0.88373642,  0.92814166,  0.40347329],\n",
       "       [ 1.64553055,  0.48705679, -1.15288042,  0.71428571,  0.98418995,\n",
       "         1.71481604, -0.36465014,  1.01491605, -1.84243046,  0.40347329],\n",
       "       [ 0.19053512,  0.48705679,  0.80115419,  0.71428571,  1.98591   ,\n",
       "        -0.01732137, -0.82236997,  1.70533512, -0.4571444 , -2.4784788 ],\n",
       "       [ 1.40303131,  0.48705679,  0.80115419,  0.71428571, -0.76882014,\n",
       "        -1.26446031, -0.82236997,  2.3957542 , -0.4571444 , -2.4784788 ],\n",
       "       [ 0.22517786,  0.48705679,  0.80115419,  0.71428571, -0.76882014,\n",
       "        -0.6062481 , -0.36465014, -0.88373642, -0.4571444 ,  0.40347329],\n",
       "       [ 0.25982061,  0.48705679, -1.15288042,  0.71428571,  1.23461996,\n",
       "        -0.22517786, -0.82236997,  1.53273035, -0.4571444 ,  0.40347329],\n",
       "       [ 0.29446336,  0.48705679,  0.80115419,  0.71428571, -0.76882014,\n",
       "        -0.67553359, -0.36465014,  1.18752082, -0.4571444 ,  0.40347329],\n",
       "       [ 1.71481604,  0.48705679,  0.80115419,  0.71428571, -0.76882014,\n",
       "         0.74481909,  2.68681544, -0.88373642, -0.4571444 ,  0.40347329],\n",
       "       [ 0.32910611,  0.48705679, -1.15288042,  0.71428571,  0.98418995,\n",
       "         1.29910306, -0.66979669,  0.1518922 , -0.4571444 ,  0.40347329],\n",
       "       [ 0.36374886,  0.48705679,  0.80115419,  0.71428571, -0.76882014,\n",
       "         0.4676771 ,  1.31365593, -0.71113165, -1.84243046,  0.40347329],\n",
       "       [ 0.39839161, -1.83226125, -1.15288042,  0.71428571,  0.98418995,\n",
       "         0.15589237,  2.53424216,  0.32449697,  0.92814166,  0.40347329],\n",
       "       [ 0.43303435,  0.48705679,  0.80115419,  0.71428571, -0.76882014,\n",
       "        -0.74481909, -0.51722341, -0.19331734, -0.4571444 ,  0.40347329],\n",
       "       [ 0.4676771 , -1.83226125, -1.15288042,  0.71428571,  0.98418995,\n",
       "         1.16053207, -0.66979669, -0.88373642, -0.4571444 , -2.4784788 ],\n",
       "       [ 0.50231985,  0.48705679,  0.80115419,  0.71428571, -0.76882014,\n",
       "         0.71017634,  1.92394904,  0.66970651,  0.92814166, -2.4784788 ],\n",
       "       [ 0.5369626 , -1.83226125, -1.15288042,  0.71428571,  1.23461996,\n",
       "        -0.15589237, -0.21207686,  2.05054466,  0.92814166, -2.4784788 ],\n",
       "       [ 0.57160535,  0.48705679,  0.80115419,  0.71428571, -0.76882014,\n",
       "        -0.39839161,  0.39821626, -0.71113165,  0.92814166,  0.40347329],\n",
       "       [ 0.6062481 ,  0.48705679, -1.15288042,  0.71428571, -0.76882014,\n",
       "         0.64089084,  1.61880249, -1.5741555 , -0.4571444 ,  0.40347329],\n",
       "       [ 0.64089084,  0.48705679,  0.80115419,  0.71428571, -0.76882014,\n",
       "        -1.09124657, -0.82236997, -0.71113165, -1.84243046,  0.40347329],\n",
       "       [ 0.67553359,  0.48705679, -1.15288042,  0.71428571,  0.98418995,\n",
       "        -0.29446336,  1.92394904, -0.19331734, -1.84243046,  0.40347329],\n",
       "       [ 0.71017634,  0.48705679, -1.15288042,  0.71428571,  0.98418995,\n",
       "         1.64553055, -0.51722341, -0.71113165, -0.4571444 ,  0.40347329],\n",
       "       [ 0.74481909, -1.83226125, -1.15288042,  0.71428571,  0.98418995,\n",
       "         0.91803283, -0.82236997,  2.22314943,  0.92814166,  0.40347329],\n",
       "       [ 0.77946184,  0.48705679,  0.80115419,  0.71428571, -0.76882014,\n",
       "        -0.4676771 ,  0.0930697 , -0.19331734,  0.92814166,  0.40347329],\n",
       "       [ 0.81410459,  0.48705679,  0.80115419,  0.71428571, -0.76882014,\n",
       "        -0.64089084, -0.36465014, -0.88373642,  0.92814166,  0.40347329],\n",
       "       [ 0.84874733,  0.48705679,  0.80115419,  0.71428571, -0.76882014,\n",
       "        -0.81410459, -0.51722341,  1.18752082, -0.4571444 ,  0.40347329],\n",
       "       [ 0.88339008, -1.83226125, -1.15288042,  0.71428571,  0.98418995,\n",
       "         0.32910611,  2.83938871,  2.05054466, -0.4571444 ,  0.40347329],\n",
       "       [ 0.91803283,  0.48705679,  0.80115419,  0.71428571, -0.76882014,\n",
       "        -0.98731833, -0.66979669,  0.66970651, -1.84243046,  0.40347329],\n",
       "       [ 0.95267558,  0.48705679, -1.15288042,  0.71428571,  0.98418995,\n",
       "        -0.08660687,  0.70336281,  1.87793989,  0.92814166,  0.40347329],\n",
       "       [ 0.98731833,  0.48705679,  0.80115419,  0.71428571, -0.76882014,\n",
       "        -1.12588932, -0.82236997,  0.84231128,  0.92814166,  0.40347329],\n",
       "       [ 1.02196108,  0.48705679,  0.80115419,  0.71428571, -0.76882014,\n",
       "        -0.5369626 , -0.05950358,  1.18752082, -0.4571444 ,  0.40347329],\n",
       "       [ 1.05660382,  0.48705679,  0.80115419,  0.71428571, -0.76882014,\n",
       "         0.67553359,  1.92394904, -0.71113165,  0.92814166,  0.40347329],\n",
       "       [ 1.09124657,  0.48705679,  0.80115419,  0.71428571, -0.76882014,\n",
       "        -0.25982061,  0.85593609, -0.71113165, -1.84243046,  0.40347329],\n",
       "       [ 1.12588932,  0.48705679, -1.15288042,  0.71428571,  0.98418995,\n",
       "         1.57624505, -0.51722341, -0.36592211,  0.92814166,  0.40347329],\n",
       "       [ 1.16053207,  0.48705679,  0.80115419,  0.71428571, -0.76882014,\n",
       "        -0.95267558, -0.66979669, -0.19331734, -0.4571444 ,  0.40347329],\n",
       "       [ 1.19517482,  0.48705679,  0.80115419,  0.71428571, -0.76882014,\n",
       "        -0.71017634, -0.51722341, -0.53852688, -0.4571444 ,  0.40347329],\n",
       "       [ 1.22981757,  0.48705679, -1.15288042,  0.71428571,  0.98418995,\n",
       "        -1.64553055,  0.85593609, -0.88373642, -0.4571444 ,  0.40347329],\n",
       "       [ 1.26446031, -1.83226125, -1.15288042,  0.71428571,  0.98418995,\n",
       "         1.5416023 , -0.51722341, -0.19331734,  0.92814166,  0.40347329],\n",
       "       [ 1.29910306,  0.48705679,  0.80115419,  0.71428571,  1.98591   ,\n",
       "         0.01732137, -0.82236997,  1.18752082,  0.92814166, -2.4784788 ],\n",
       "       [ 1.33374581,  0.48705679,  0.80115419,  0.71428571, -0.76882014,\n",
       "        -0.43303435,  0.24564298, -0.53852688, -0.4571444 ,  0.40347329]])"
      ]
     },
     "execution_count": 37,
     "metadata": {},
     "output_type": "execute_result"
    }
   ],
   "source": [
    "scaled_fea"
   ]
  },
  {
   "cell_type": "markdown",
   "metadata": {
    "_uuid": "fc2c81feb27baefe8bde443afdff72ef0b34760f"
   },
   "source": [
    "**Convert the scaled features to a dataframe and check the head of this dataframe to make sure the scaling worked.**"
   ]
  },
  {
   "cell_type": "code",
   "execution_count": 36,
   "metadata": {
    "_uuid": "d25a581c7dc7ab7d9870ae6f1ba431a5942009a5"
   },
   "outputs": [
    {
     "ename": "ValueError",
     "evalue": "Shape of passed values is (100, 10), indices imply (100, 100)",
     "output_type": "error",
     "traceback": [
      "\u001b[1;31m---------------------------------------------------------------------------\u001b[0m",
      "\u001b[1;31mValueError\u001b[0m                                Traceback (most recent call last)",
      "\u001b[1;32m~\\Anaconda3\\lib\\site-packages\\pandas\\core\\internals\\managers.py\u001b[0m in \u001b[0;36mcreate_block_manager_from_blocks\u001b[1;34m(blocks, axes)\u001b[0m\n\u001b[0;32m   1653\u001b[0m                 blocks = [\n\u001b[1;32m-> 1654\u001b[1;33m                     \u001b[0mmake_block\u001b[0m\u001b[1;33m(\u001b[0m\u001b[0mvalues\u001b[0m\u001b[1;33m=\u001b[0m\u001b[0mblocks\u001b[0m\u001b[1;33m[\u001b[0m\u001b[1;36m0\u001b[0m\u001b[1;33m]\u001b[0m\u001b[1;33m,\u001b[0m \u001b[0mplacement\u001b[0m\u001b[1;33m=\u001b[0m\u001b[0mslice\u001b[0m\u001b[1;33m(\u001b[0m\u001b[1;36m0\u001b[0m\u001b[1;33m,\u001b[0m \u001b[0mlen\u001b[0m\u001b[1;33m(\u001b[0m\u001b[0maxes\u001b[0m\u001b[1;33m[\u001b[0m\u001b[1;36m0\u001b[0m\u001b[1;33m]\u001b[0m\u001b[1;33m)\u001b[0m\u001b[1;33m)\u001b[0m\u001b[1;33m)\u001b[0m\u001b[1;33m\u001b[0m\u001b[1;33m\u001b[0m\u001b[0m\n\u001b[0m\u001b[0;32m   1655\u001b[0m                 ]\n",
      "\u001b[1;32m~\\Anaconda3\\lib\\site-packages\\pandas\\core\\internals\\blocks.py\u001b[0m in \u001b[0;36mmake_block\u001b[1;34m(values, placement, klass, ndim, dtype)\u001b[0m\n\u001b[0;32m   3052\u001b[0m \u001b[1;33m\u001b[0m\u001b[0m\n\u001b[1;32m-> 3053\u001b[1;33m     \u001b[1;32mreturn\u001b[0m \u001b[0mklass\u001b[0m\u001b[1;33m(\u001b[0m\u001b[0mvalues\u001b[0m\u001b[1;33m,\u001b[0m \u001b[0mndim\u001b[0m\u001b[1;33m=\u001b[0m\u001b[0mndim\u001b[0m\u001b[1;33m,\u001b[0m \u001b[0mplacement\u001b[0m\u001b[1;33m=\u001b[0m\u001b[0mplacement\u001b[0m\u001b[1;33m)\u001b[0m\u001b[1;33m\u001b[0m\u001b[1;33m\u001b[0m\u001b[0m\n\u001b[0m\u001b[0;32m   3054\u001b[0m \u001b[1;33m\u001b[0m\u001b[0m\n",
      "\u001b[1;32m~\\Anaconda3\\lib\\site-packages\\pandas\\core\\internals\\blocks.py\u001b[0m in \u001b[0;36m__init__\u001b[1;34m(self, values, placement, ndim)\u001b[0m\n\u001b[0;32m    123\u001b[0m         \u001b[1;32mif\u001b[0m \u001b[0mself\u001b[0m\u001b[1;33m.\u001b[0m\u001b[0m_validate_ndim\u001b[0m \u001b[1;32mand\u001b[0m \u001b[0mself\u001b[0m\u001b[1;33m.\u001b[0m\u001b[0mndim\u001b[0m \u001b[1;32mand\u001b[0m \u001b[0mlen\u001b[0m\u001b[1;33m(\u001b[0m\u001b[0mself\u001b[0m\u001b[1;33m.\u001b[0m\u001b[0mmgr_locs\u001b[0m\u001b[1;33m)\u001b[0m \u001b[1;33m!=\u001b[0m \u001b[0mlen\u001b[0m\u001b[1;33m(\u001b[0m\u001b[0mself\u001b[0m\u001b[1;33m.\u001b[0m\u001b[0mvalues\u001b[0m\u001b[1;33m)\u001b[0m\u001b[1;33m:\u001b[0m\u001b[1;33m\u001b[0m\u001b[1;33m\u001b[0m\u001b[0m\n\u001b[1;32m--> 124\u001b[1;33m             raise ValueError(\n\u001b[0m\u001b[0;32m    125\u001b[0m                 \u001b[1;34mf\"Wrong number of items passed {len(self.values)}, \"\u001b[0m\u001b[1;33m\u001b[0m\u001b[1;33m\u001b[0m\u001b[0m\n",
      "\u001b[1;31mValueError\u001b[0m: Wrong number of items passed 10, placement implies 100",
      "\nDuring handling of the above exception, another exception occurred:\n",
      "\u001b[1;31mValueError\u001b[0m                                Traceback (most recent call last)",
      "\u001b[1;32m<ipython-input-36-9ae265710aa0>\u001b[0m in \u001b[0;36m<module>\u001b[1;34m\u001b[0m\n\u001b[1;32m----> 1\u001b[1;33m \u001b[0mdf_1\u001b[0m\u001b[1;33m=\u001b[0m\u001b[0mpd\u001b[0m\u001b[1;33m.\u001b[0m\u001b[0mDataFrame\u001b[0m\u001b[1;33m(\u001b[0m\u001b[0mscaled_fea\u001b[0m\u001b[1;33m,\u001b[0m\u001b[0mcolumns\u001b[0m\u001b[1;33m=\u001b[0m\u001b[0mdf1\u001b[0m\u001b[1;33m[\u001b[0m\u001b[1;34m\"loan_status\"\u001b[0m\u001b[1;33m]\u001b[0m\u001b[1;33m)\u001b[0m\u001b[1;33m\u001b[0m\u001b[1;33m\u001b[0m\u001b[0m\n\u001b[0m\u001b[0;32m      2\u001b[0m \u001b[0mdf_1\u001b[0m\u001b[1;33m.\u001b[0m\u001b[0mhead\u001b[0m\u001b[1;33m(\u001b[0m\u001b[1;33m)\u001b[0m\u001b[1;33m\u001b[0m\u001b[1;33m\u001b[0m\u001b[0m\n",
      "\u001b[1;32m~\\Anaconda3\\lib\\site-packages\\pandas\\core\\frame.py\u001b[0m in \u001b[0;36m__init__\u001b[1;34m(self, data, index, columns, dtype, copy)\u001b[0m\n\u001b[0;32m    462\u001b[0m                 \u001b[0mmgr\u001b[0m \u001b[1;33m=\u001b[0m \u001b[0minit_dict\u001b[0m\u001b[1;33m(\u001b[0m\u001b[1;33m{\u001b[0m\u001b[0mdata\u001b[0m\u001b[1;33m.\u001b[0m\u001b[0mname\u001b[0m\u001b[1;33m:\u001b[0m \u001b[0mdata\u001b[0m\u001b[1;33m}\u001b[0m\u001b[1;33m,\u001b[0m \u001b[0mindex\u001b[0m\u001b[1;33m,\u001b[0m \u001b[0mcolumns\u001b[0m\u001b[1;33m,\u001b[0m \u001b[0mdtype\u001b[0m\u001b[1;33m=\u001b[0m\u001b[0mdtype\u001b[0m\u001b[1;33m)\u001b[0m\u001b[1;33m\u001b[0m\u001b[1;33m\u001b[0m\u001b[0m\n\u001b[0;32m    463\u001b[0m             \u001b[1;32melse\u001b[0m\u001b[1;33m:\u001b[0m\u001b[1;33m\u001b[0m\u001b[1;33m\u001b[0m\u001b[0m\n\u001b[1;32m--> 464\u001b[1;33m                 \u001b[0mmgr\u001b[0m \u001b[1;33m=\u001b[0m \u001b[0minit_ndarray\u001b[0m\u001b[1;33m(\u001b[0m\u001b[0mdata\u001b[0m\u001b[1;33m,\u001b[0m \u001b[0mindex\u001b[0m\u001b[1;33m,\u001b[0m \u001b[0mcolumns\u001b[0m\u001b[1;33m,\u001b[0m \u001b[0mdtype\u001b[0m\u001b[1;33m=\u001b[0m\u001b[0mdtype\u001b[0m\u001b[1;33m,\u001b[0m \u001b[0mcopy\u001b[0m\u001b[1;33m=\u001b[0m\u001b[0mcopy\u001b[0m\u001b[1;33m)\u001b[0m\u001b[1;33m\u001b[0m\u001b[1;33m\u001b[0m\u001b[0m\n\u001b[0m\u001b[0;32m    465\u001b[0m \u001b[1;33m\u001b[0m\u001b[0m\n\u001b[0;32m    466\u001b[0m         \u001b[1;31m# For data is list-like, or Iterable (will consume into list)\u001b[0m\u001b[1;33m\u001b[0m\u001b[1;33m\u001b[0m\u001b[1;33m\u001b[0m\u001b[0m\n",
      "\u001b[1;32m~\\Anaconda3\\lib\\site-packages\\pandas\\core\\internals\\construction.py\u001b[0m in \u001b[0;36minit_ndarray\u001b[1;34m(values, index, columns, dtype, copy)\u001b[0m\n\u001b[0;32m    208\u001b[0m         \u001b[0mblock_values\u001b[0m \u001b[1;33m=\u001b[0m \u001b[1;33m[\u001b[0m\u001b[0mvalues\u001b[0m\u001b[1;33m]\u001b[0m\u001b[1;33m\u001b[0m\u001b[1;33m\u001b[0m\u001b[0m\n\u001b[0;32m    209\u001b[0m \u001b[1;33m\u001b[0m\u001b[0m\n\u001b[1;32m--> 210\u001b[1;33m     \u001b[1;32mreturn\u001b[0m \u001b[0mcreate_block_manager_from_blocks\u001b[0m\u001b[1;33m(\u001b[0m\u001b[0mblock_values\u001b[0m\u001b[1;33m,\u001b[0m \u001b[1;33m[\u001b[0m\u001b[0mcolumns\u001b[0m\u001b[1;33m,\u001b[0m \u001b[0mindex\u001b[0m\u001b[1;33m]\u001b[0m\u001b[1;33m)\u001b[0m\u001b[1;33m\u001b[0m\u001b[1;33m\u001b[0m\u001b[0m\n\u001b[0m\u001b[0;32m    211\u001b[0m \u001b[1;33m\u001b[0m\u001b[0m\n\u001b[0;32m    212\u001b[0m \u001b[1;33m\u001b[0m\u001b[0m\n",
      "\u001b[1;32m~\\Anaconda3\\lib\\site-packages\\pandas\\core\\internals\\managers.py\u001b[0m in \u001b[0;36mcreate_block_manager_from_blocks\u001b[1;34m(blocks, axes)\u001b[0m\n\u001b[0;32m   1662\u001b[0m         \u001b[0mblocks\u001b[0m \u001b[1;33m=\u001b[0m \u001b[1;33m[\u001b[0m\u001b[0mgetattr\u001b[0m\u001b[1;33m(\u001b[0m\u001b[0mb\u001b[0m\u001b[1;33m,\u001b[0m \u001b[1;34m\"values\"\u001b[0m\u001b[1;33m,\u001b[0m \u001b[0mb\u001b[0m\u001b[1;33m)\u001b[0m \u001b[1;32mfor\u001b[0m \u001b[0mb\u001b[0m \u001b[1;32min\u001b[0m \u001b[0mblocks\u001b[0m\u001b[1;33m]\u001b[0m\u001b[1;33m\u001b[0m\u001b[1;33m\u001b[0m\u001b[0m\n\u001b[0;32m   1663\u001b[0m         \u001b[0mtot_items\u001b[0m \u001b[1;33m=\u001b[0m \u001b[0msum\u001b[0m\u001b[1;33m(\u001b[0m\u001b[0mb\u001b[0m\u001b[1;33m.\u001b[0m\u001b[0mshape\u001b[0m\u001b[1;33m[\u001b[0m\u001b[1;36m0\u001b[0m\u001b[1;33m]\u001b[0m \u001b[1;32mfor\u001b[0m \u001b[0mb\u001b[0m \u001b[1;32min\u001b[0m \u001b[0mblocks\u001b[0m\u001b[1;33m)\u001b[0m\u001b[1;33m\u001b[0m\u001b[1;33m\u001b[0m\u001b[0m\n\u001b[1;32m-> 1664\u001b[1;33m         \u001b[0mconstruction_error\u001b[0m\u001b[1;33m(\u001b[0m\u001b[0mtot_items\u001b[0m\u001b[1;33m,\u001b[0m \u001b[0mblocks\u001b[0m\u001b[1;33m[\u001b[0m\u001b[1;36m0\u001b[0m\u001b[1;33m]\u001b[0m\u001b[1;33m.\u001b[0m\u001b[0mshape\u001b[0m\u001b[1;33m[\u001b[0m\u001b[1;36m1\u001b[0m\u001b[1;33m:\u001b[0m\u001b[1;33m]\u001b[0m\u001b[1;33m,\u001b[0m \u001b[0maxes\u001b[0m\u001b[1;33m,\u001b[0m \u001b[0me\u001b[0m\u001b[1;33m)\u001b[0m\u001b[1;33m\u001b[0m\u001b[1;33m\u001b[0m\u001b[0m\n\u001b[0m\u001b[0;32m   1665\u001b[0m \u001b[1;33m\u001b[0m\u001b[0m\n\u001b[0;32m   1666\u001b[0m \u001b[1;33m\u001b[0m\u001b[0m\n",
      "\u001b[1;32m~\\Anaconda3\\lib\\site-packages\\pandas\\core\\internals\\managers.py\u001b[0m in \u001b[0;36mconstruction_error\u001b[1;34m(tot_items, block_shape, axes, e)\u001b[0m\n\u001b[0;32m   1692\u001b[0m     \u001b[1;32mif\u001b[0m \u001b[0mblock_shape\u001b[0m\u001b[1;33m[\u001b[0m\u001b[1;36m0\u001b[0m\u001b[1;33m]\u001b[0m \u001b[1;33m==\u001b[0m \u001b[1;36m0\u001b[0m\u001b[1;33m:\u001b[0m\u001b[1;33m\u001b[0m\u001b[1;33m\u001b[0m\u001b[0m\n\u001b[0;32m   1693\u001b[0m         \u001b[1;32mraise\u001b[0m \u001b[0mValueError\u001b[0m\u001b[1;33m(\u001b[0m\u001b[1;34m\"Empty data passed with indices specified.\"\u001b[0m\u001b[1;33m)\u001b[0m\u001b[1;33m\u001b[0m\u001b[1;33m\u001b[0m\u001b[0m\n\u001b[1;32m-> 1694\u001b[1;33m     \u001b[1;32mraise\u001b[0m \u001b[0mValueError\u001b[0m\u001b[1;33m(\u001b[0m\u001b[1;34mf\"Shape of passed values is {passed}, indices imply {implied}\"\u001b[0m\u001b[1;33m)\u001b[0m\u001b[1;33m\u001b[0m\u001b[1;33m\u001b[0m\u001b[0m\n\u001b[0m\u001b[0;32m   1695\u001b[0m \u001b[1;33m\u001b[0m\u001b[0m\n\u001b[0;32m   1696\u001b[0m \u001b[1;33m\u001b[0m\u001b[0m\n",
      "\u001b[1;31mValueError\u001b[0m: Shape of passed values is (100, 10), indices imply (100, 100)"
     ]
    }
   ],
   "source": [
    "df_1=pd.DataFrame(scaled_fea,columns=df1[\"loan_status\"])\n",
    "df_1.head()"
   ]
  },
  {
   "cell_type": "markdown",
   "metadata": {
    "_uuid": "ec62ef9c644fc4565ee0d0e968ffa49d9cab20ef"
   },
   "source": [
    "## Train Test Split\n",
    "\n",
    "** Create two objects X and y which are the scaled feature values and labels respectively.**"
   ]
  },
  {
   "cell_type": "code",
   "execution_count": null,
   "metadata": {
    "_uuid": "a1d2c896ffb7193c3774f348f36378b166940d96",
    "collapsed": true
   },
   "outputs": [],
   "source": [
    "X=df_1"
   ]
  },
  {
   "cell_type": "code",
   "execution_count": null,
   "metadata": {
    "_uuid": "52c432fc3bfc3a83b5b6842e74df2a6d87183f91",
    "collapsed": true
   },
   "outputs": [],
   "source": [
    "y=df[\"Class\"]"
   ]
  },
  {
   "cell_type": "markdown",
   "metadata": {
    "_uuid": "16524a2f8dc522063e6ccae95ce59f351d1e5850"
   },
   "source": [
    "** Use the .as_matrix() method on X and Y and reset them equal to this result. We need to do this in order for TensorFlow to accept the data in Numpy array form instead of a pandas series. **"
   ]
  },
  {
   "cell_type": "code",
   "execution_count": null,
   "metadata": {
    "_uuid": "a65959896cc55d149af4f71e2eb38582ce76db04"
   },
   "outputs": [],
   "source": [
    "X=X.as_matrix()\n",
    "y=y.as_matrix()"
   ]
  },
  {
   "cell_type": "markdown",
   "metadata": {
    "_uuid": "26a94f2e200315aa2c921347f6f026ac8f499685"
   },
   "source": [
    "** Use SciKit Learn to create training and testing sets of the data as we've done in previous lectures:**"
   ]
  },
  {
   "cell_type": "code",
   "execution_count": 68,
   "metadata": {
    "_uuid": "d8395872953d2138620045afa13c05979e55e8f2"
   },
   "outputs": [],
   "source": [
    "from sklearn.model_selection import train_test_split"
   ]
  },
  {
   "cell_type": "code",
   "execution_count": 69,
   "metadata": {
    "_uuid": "7e301e34f804904e97723fc03b2b7bebf979115b"
   },
   "outputs": [],
   "source": [
    "X_train, X_test, y_train, y_test = train_test_split(X, y, test_size=0.3)"
   ]
  },
  {
   "cell_type": "markdown",
   "metadata": {
    "_uuid": "f7b860ea6b6bc25301a6086d3d98dcdd4521157c"
   },
   "source": [
    "# Contrib.learn\n",
    "\n",
    "** Import tensorflow.contrib.learn.python.learn as learn**"
   ]
  },
  {
   "cell_type": "code",
   "execution_count": 81,
   "metadata": {},
   "outputs": [
    {
     "name": "stdout",
     "output_type": "stream",
     "text": [
      "Collecting tflearn\n",
      "  Downloading tflearn-0.5.0.tar.gz (107 kB)\n",
      "Requirement already satisfied: numpy in c:\\users\\spiro71-python\\anaconda3\\lib\\site-packages (from tflearn) (1.18.5)\n",
      "Requirement already satisfied: six in c:\\users\\spiro71-python\\anaconda3\\lib\\site-packages (from tflearn) (1.15.0)\n",
      "Requirement already satisfied: Pillow in c:\\users\\spiro71-python\\anaconda3\\lib\\site-packages (from tflearn) (7.2.0)\n",
      "Building wheels for collected packages: tflearn\n",
      "  Building wheel for tflearn (setup.py): started\n",
      "  Building wheel for tflearn (setup.py): finished with status 'done'\n",
      "  Created wheel for tflearn: filename=tflearn-0.5.0-py3-none-any.whl size=127304 sha256=4f9656baa99ca399a77c347ca1d0c72e91cb2d7e393c5c3e058e46727e70abda\n",
      "  Stored in directory: c:\\users\\spiro71-python\\appdata\\local\\pip\\cache\\wheels\\65\\9b\\15\\cb1e6b279c14ed897530d15cfd7da8e3df8a947e593f5cfe59\n",
      "Successfully built tflearn\n",
      "Installing collected packages: tflearn\n",
      "Successfully installed tflearn-0.5.0\n"
     ]
    }
   ],
   "source": [
    "!pip install tflearn"
   ]
  },
  {
   "cell_type": "code",
   "execution_count": 85,
   "metadata": {
    "_uuid": "49704e38d5341c6f40b4659f4096c0830c165cb9"
   },
   "outputs": [
    {
     "ename": "ModuleNotFoundError",
     "evalue": "No module named 'tensorflow.contrib'",
     "output_type": "error",
     "traceback": [
      "\u001b[1;31m---------------------------------------------------------------------------\u001b[0m",
      "\u001b[1;31mModuleNotFoundError\u001b[0m                       Traceback (most recent call last)",
      "\u001b[1;32m<ipython-input-85-bc0d6ffb0d90>\u001b[0m in \u001b[0;36m<module>\u001b[1;34m\u001b[0m\n\u001b[0;32m      1\u001b[0m \u001b[1;32mimport\u001b[0m \u001b[0mtensorflow\u001b[0m \u001b[1;32mas\u001b[0m \u001b[0mtf\u001b[0m\u001b[1;33m\u001b[0m\u001b[1;33m\u001b[0m\u001b[0m\n\u001b[1;32m----> 2\u001b[1;33m \u001b[1;32mimport\u001b[0m \u001b[0mtensorflow\u001b[0m\u001b[1;33m.\u001b[0m\u001b[0mcontrib\u001b[0m\u001b[1;33m.\u001b[0m\u001b[0mlearn\u001b[0m \u001b[1;32mas\u001b[0m \u001b[0mlearn\u001b[0m\u001b[1;33m\u001b[0m\u001b[1;33m\u001b[0m\u001b[0m\n\u001b[0m",
      "\u001b[1;31mModuleNotFoundError\u001b[0m: No module named 'tensorflow.contrib'"
     ]
    }
   ],
   "source": [
    "import tensorflow as tf\n",
    "import tensorflow.contrib.learn as learn"
   ]
  },
  {
   "cell_type": "code",
   "execution_count": 86,
   "metadata": {},
   "outputs": [
    {
     "name": "stdout",
     "output_type": "stream",
     "text": [
      "WARNING:tensorflow:From C:\\Users\\SPIRO71-PYTHON\\Anaconda3\\lib\\site-packages\\tensorflow\\python\\compat\\v2_compat.py:96: disable_resource_variables (from tensorflow.python.ops.variable_scope) is deprecated and will be removed in a future version.\n",
      "Instructions for updating:\n",
      "non-resource variables are not supported in the long term\n",
      "curses is not supported on this machine (please install/reinstall curses for an optimal experience)\n"
     ]
    }
   ],
   "source": [
    "import tflearn"
   ]
  },
  {
   "cell_type": "code",
   "execution_count": 90,
   "metadata": {},
   "outputs": [
    {
     "name": "stdout",
     "output_type": "stream",
     "text": [
      "WARNING:tensorflow:From C:\\Users\\SPIRO71-PYTHON\\Anaconda3\\lib\\site-packages\\tflearn\\initializations.py:164: calling TruncatedNormal.__init__ (from tensorflow.python.ops.init_ops) with dtype is deprecated and will be removed in a future version.\n",
      "Instructions for updating:\n",
      "Call initializer instance with the dtype argument instead of passing it to the constructor\n",
      "WARNING:tensorflow:From C:\\Users\\SPIRO71-PYTHON\\Anaconda3\\lib\\site-packages\\tensorflow\\python\\util\\dispatch.py:201: calling dropout (from tensorflow.python.ops.nn_ops) with keep_prob is deprecated and will be removed in a future version.\n",
      "Instructions for updating:\n",
      "Please use `rate` instead of `keep_prob`. Rate should be set to `rate = 1 - keep_prob`.\n"
     ]
    }
   ],
   "source": [
    "net = tflearn.input_data(shape=[None, 784])\n",
    "net = tflearn.fully_connected(net, 64)\n",
    "net = tflearn.dropout(net, 0.5)\n",
    "net = tflearn.fully_connected(net, 10, activation='softmax')\n",
    "net = tflearn.regression(net, optimizer='adam', loss='categorical_crossentropy')"
   ]
  },
  {
   "cell_type": "code",
   "execution_count": 91,
   "metadata": {},
   "outputs": [],
   "source": [
    "model=tflearn.DNN(net,tensorboard_verbose=0)"
   ]
  },
  {
   "cell_type": "code",
   "execution_count": null,
   "metadata": {},
   "outputs": [
    {
     "name": "stdout",
     "output_type": "stream",
     "text": [
      "---------------------------------\n",
      "Run id: AL1ZIQ\n",
      "Log directory: /tmp/tflearn_logs/\n"
     ]
    },
    {
     "name": "stderr",
     "output_type": "stream",
     "text": [
      "Exception in thread Thread-16:\n",
      "Traceback (most recent call last):\n",
      "  File \"C:\\Users\\SPIRO71-PYTHON\\Anaconda3\\lib\\threading.py\", line 932, in _bootstrap_inner\n",
      "    self.run()\n",
      "  File \"C:\\Users\\SPIRO71-PYTHON\\Anaconda3\\lib\\threading.py\", line 870, in run\n",
      "    self._target(*self._args, **self._kwargs)\n",
      "  File \"C:\\Users\\SPIRO71-PYTHON\\Anaconda3\\lib\\site-packages\\tflearn\\data_flow.py\", line 187, in fill_feed_dict_queue\n",
      "    data = self.retrieve_data(batch_ids)\n",
      "  File \"C:\\Users\\SPIRO71-PYTHON\\Anaconda3\\lib\\site-packages\\tflearn\\data_flow.py\", line 222, in retrieve_data\n",
      "    utils.slice_array(self.feed_dict[key], batch_ids)\n",
      "  File \"C:\\Users\\SPIRO71-PYTHON\\Anaconda3\\lib\\site-packages\\tflearn\\utils.py\", line 204, in slice_array\n",
      "    return X[start]\n",
      "  File \"C:\\Users\\SPIRO71-PYTHON\\Anaconda3\\lib\\site-packages\\pandas\\core\\frame.py\", line 2806, in __getitem__\n",
      "    indexer = self.loc._get_listlike_indexer(key, axis=1, raise_missing=True)[1]\n",
      "  File \"C:\\Users\\SPIRO71-PYTHON\\Anaconda3\\lib\\site-packages\\pandas\\core\\indexing.py\", line 1552, in _get_listlike_indexer\n",
      "    self._validate_read_indexer(\n",
      "  File \"C:\\Users\\SPIRO71-PYTHON\\Anaconda3\\lib\\site-packages\\pandas\\core\\indexing.py\", line 1640, in _validate_read_indexer\n",
      "    raise KeyError(f\"None of [{key}] are in the [{axis_name}]\")\n",
      "KeyError: \"None of [Int64Index([ 15, 171, 114, 196, 168, 333, 172, 127,  75,  86, 322, 308, 213,\\n             43, 201, 194, 215, 102,   8,  28, 349, 139,  93, 307, 192,  85,\\n            314, 152, 124, 291, 287, 252,  72, 133,  90,  36, 134, 345,  69,\\n             30, 280, 125, 267, 342,  49,  58, 132, 300, 155,   4, 202, 157,\\n             25, 164, 245, 260, 315, 184, 121, 283,  81, 274, 158, 187],\\n           dtype='int64')] are in the [columns]\"\n"
     ]
    },
    {
     "name": "stdout",
     "output_type": "stream",
     "text": [
      "---------------------------------\n",
      "Training samples: 350\n",
      "Validation samples: 0\n",
      "--\n"
     ]
    }
   ],
   "source": [
    "model.fit(X_train,y_train)"
   ]
  },
  {
   "cell_type": "markdown",
   "metadata": {
    "_uuid": "20abc03e2750c2dbfc811a63afeab0ff3f826db5"
   },
   "source": [
    "** Create an object called classifier which is a DNNClassifier from learn. Set it to have 2 classes and a [10,20,10] hidden unit layer structure:**"
   ]
  },
  {
   "cell_type": "code",
   "execution_count": 83,
   "metadata": {
    "_uuid": "e1c2028c302e5641b15d936b3f27ddd80eb6a4cc"
   },
   "outputs": [
    {
     "ename": "TypeError",
     "evalue": "__init__() missing 1 required positional argument: 'feature_columns'",
     "output_type": "error",
     "traceback": [
      "\u001b[1;31m---------------------------------------------------------------------------\u001b[0m",
      "\u001b[1;31mTypeError\u001b[0m                                 Traceback (most recent call last)",
      "\u001b[1;32m<ipython-input-83-cde7839ef1b9>\u001b[0m in \u001b[0;36m<module>\u001b[1;34m\u001b[0m\n\u001b[0;32m      1\u001b[0m \u001b[1;31m#feature_columns = [tf.contrib.layers.real_valued_column(\"\", dimension=1)]\u001b[0m\u001b[1;33m\u001b[0m\u001b[1;33m\u001b[0m\u001b[1;33m\u001b[0m\u001b[0m\n\u001b[1;32m----> 2\u001b[1;33m \u001b[0mclassifier\u001b[0m \u001b[1;33m=\u001b[0m \u001b[0mtf\u001b[0m\u001b[1;33m.\u001b[0m\u001b[0mestimator\u001b[0m\u001b[1;33m.\u001b[0m\u001b[0mDNNClassifier\u001b[0m\u001b[1;33m(\u001b[0m\u001b[0mhidden_units\u001b[0m\u001b[1;33m=\u001b[0m\u001b[1;33m[\u001b[0m\u001b[1;36m10\u001b[0m\u001b[1;33m,\u001b[0m \u001b[1;36m20\u001b[0m\u001b[1;33m,\u001b[0m \u001b[1;36m10\u001b[0m\u001b[1;33m]\u001b[0m\u001b[1;33m,\u001b[0m \u001b[0mn_classes\u001b[0m\u001b[1;33m=\u001b[0m\u001b[1;36m2\u001b[0m\u001b[1;33m)\u001b[0m\u001b[1;33m\u001b[0m\u001b[1;33m\u001b[0m\u001b[0m\n\u001b[0m",
      "\u001b[1;31mTypeError\u001b[0m: __init__() missing 1 required positional argument: 'feature_columns'"
     ]
    }
   ],
   "source": [
    "#feature_columns = [tf.contrib.layers.real_valued_column(\"\", dimension=1)]\n",
    "classifier = tf.estimator.DNNClassifier(feature_columns=feature_columns,hidden_units=[10, 20, 10], n_classes=2)"
   ]
  },
  {
   "cell_type": "markdown",
   "metadata": {
    "_uuid": "d0177f8940ec6443fc720359af13d9c4ab692b97"
   },
   "source": [
    "** Now fit classifier to the training data. Use steps=200 with a batch_size of 20. You can play around with these values if you want!**\n",
    "\n",
    "*Note: Ignore any warnings you get, they won't effect your output*"
   ]
  },
  {
   "cell_type": "code",
   "execution_count": null,
   "metadata": {
    "_uuid": "0bcd04b4fdd59c14d00d3a3c1f4db325b4d48ebf"
   },
   "outputs": [],
   "source": [
    "classifier.fit(X_train, y_train, steps=200, batch_size=20)"
   ]
  },
  {
   "cell_type": "markdown",
   "metadata": {
    "_uuid": "4cc61e0764824745d455a44b3edfeb01e9a864bc"
   },
   "source": [
    "## Model Evaluation\n",
    "\n",
    "** Use the predict method from the classifier model to create predictions from X_test **"
   ]
  },
  {
   "cell_type": "code",
   "execution_count": null,
   "metadata": {
    "_uuid": "5417bc60a26b97a14bd0d34ad7170e2459363174",
    "collapsed": true
   },
   "outputs": [],
   "source": [
    "note_predictions = list(classifier.predict(X_test))"
   ]
  },
  {
   "cell_type": "markdown",
   "metadata": {
    "_uuid": "1703b5ab7d135d38cd22afb4ff4e4349303b6e1c"
   },
   "source": [
    "** Now create a classification report and a Confusion Matrix. Does anything stand out to you?**"
   ]
  },
  {
   "cell_type": "code",
   "execution_count": null,
   "metadata": {
    "_uuid": "0f153edaab817882704fa6bb6c66399783103b16",
    "collapsed": true
   },
   "outputs": [],
   "source": [
    "from sklearn.metrics import classification_report,confusion_matrix"
   ]
  },
  {
   "cell_type": "code",
   "execution_count": null,
   "metadata": {
    "_uuid": "f57ccd2a80e24a913f38858395c27df70c2eed34"
   },
   "outputs": [],
   "source": [
    "type(y_test)"
   ]
  },
  {
   "cell_type": "code",
   "execution_count": null,
   "metadata": {
    "_uuid": "3ce67833794992bfef79c6047a3d57daf9eb504c"
   },
   "outputs": [],
   "source": [
    "print(confusion_matrix(y_test,note_predictions))"
   ]
  },
  {
   "cell_type": "code",
   "execution_count": null,
   "metadata": {
    "_uuid": "1727fe1dd30db8ebe08783458cd3fb4e482f97bf"
   },
   "outputs": [],
   "source": [
    "print(classification_report(y_test,note_predictions))"
   ]
  },
  {
   "cell_type": "markdown",
   "metadata": {
    "_uuid": "31b01da5c8f8c44b01ac39e320c84ff9e7643f61"
   },
   "source": [
    "## Optional Comparison\n",
    "\n",
    "** You should have noticed extremely accurate results from the DNN model. Let's compare this to a Random Forest Classifier for a reality check!**\n",
    "\n",
    "**Use SciKit Learn to Create a Random Forest Classifier and compare the confusion matrix and classification report to the DNN model**"
   ]
  },
  {
   "cell_type": "code",
   "execution_count": null,
   "metadata": {
    "_uuid": "fd7537c3b93e805fc791900710e6d269a348572f",
    "collapsed": true
   },
   "outputs": [],
   "source": [
    "from sklearn.ensemble import RandomForestClassifier"
   ]
  },
  {
   "cell_type": "code",
   "execution_count": null,
   "metadata": {
    "_uuid": "d0b24c3032dd60bd0059759802c733581b3ebe81",
    "collapsed": true
   },
   "outputs": [],
   "source": [
    "rfc = RandomForestClassifier(n_estimators=200)"
   ]
  },
  {
   "cell_type": "code",
   "execution_count": null,
   "metadata": {
    "_uuid": "d99525c6bca5d44ed6bff83c10719deb3243b270"
   },
   "outputs": [],
   "source": [
    "rfc.fit(X_train,y_train)"
   ]
  },
  {
   "cell_type": "code",
   "execution_count": null,
   "metadata": {
    "_uuid": "4163bb366117fad2adf4ccfcaf66c1aa6694f05d",
    "collapsed": true
   },
   "outputs": [],
   "source": [
    "rfc_preds = rfc.predict(X_test)"
   ]
  },
  {
   "cell_type": "code",
   "execution_count": null,
   "metadata": {
    "_uuid": "33ef3d8c3f911091fe56d0786b11313f40386ddc"
   },
   "outputs": [],
   "source": [
    "print(classification_report(y_test,rfc_preds))"
   ]
  },
  {
   "cell_type": "code",
   "execution_count": null,
   "metadata": {
    "_uuid": "2015793e97ff1fe56bd34b00bed1e57db5a9d0ab"
   },
   "outputs": [],
   "source": [
    "print(confusion_matrix(y_test,rfc_preds))"
   ]
  },
  {
   "cell_type": "markdown",
   "metadata": {
    "_uuid": "560419ee0538fd3d79b7f4a0fbe7c4b97278fd64"
   },
   "source": [
    "** It should have also done very well, but not quite as good as the DNN model. Hopefully you have seen the power of DNN! **"
   ]
  },
  {
   "cell_type": "markdown",
   "metadata": {
    "_uuid": "b28d72aa24e1f85a076a67e7b8e9dc1f860b350c"
   },
   "source": [
    "\n",
    "\n",
    "Thanks for looking my kernel.This project belongs to udemy - \"Data science and Machine learning Bootcamp\". If you like please upvote and comment your suggestion.\n"
   ]
  }
 ],
 "metadata": {
  "kernelspec": {
   "display_name": "Python 3",
   "language": "python",
   "name": "python3"
  },
  "language_info": {
   "codemirror_mode": {
    "name": "ipython",
    "version": 3
   },
   "file_extension": ".py",
   "mimetype": "text/x-python",
   "name": "python",
   "nbconvert_exporter": "python",
   "pygments_lexer": "ipython3",
   "version": "3.8.3"
  }
 },
 "nbformat": 4,
 "nbformat_minor": 1
}
